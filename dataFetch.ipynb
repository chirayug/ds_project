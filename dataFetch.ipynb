{
 "cells": [
  {
   "cell_type": "code",
   "execution_count": null,
   "id": "25181a2f-bf6b-4edf-83c8-475a6379004a",
   "metadata": {},
   "outputs": [],
   "source": [
    "import pandas as pd\n",
    "import requests as rq\n",
    "import numpy as np\n",
    "import datetime"
   ]
  },
  {
   "cell_type": "code",
   "execution_count": null,
   "id": "6255a91d-d92c-40a6-aa1c-fab8bde65e17",
   "metadata": {},
   "outputs": [],
   "source": [
    "pd.set_option(\"display.max_columns\", None) #Print all columns\n",
    "pd.set_option(\"display.max_colwidth\", None) #full width for all column display"
   ]
  },
  {
   "cell_type": "code",
   "execution_count": null,
   "id": "5d142950-f5b3-4c5e-a986-a8d2c1f2de84",
   "metadata": {},
   "outputs": [],
   "source": [
    "rockets_url = \"https://api.spacexdata.com/v4/rockets/\"\n",
    "launchpad_url = \"https://api.spacexdata.com/v4/launchpads/\"\n",
    "payloads_url = \"https://api.spacexdata.com/v4/payloads/\"\n",
    "core_url = \"https://api.spacexdata.com/v4/cores/\"\n",
    "main_url = \"https://api.spacexdata.com/v4/launches/past\"\n",
    "static_json_url='https://cf-courses-data.s3.us.cloud-object-storage.appdomain.cloud/IBM-DS0321EN-SkillsNetwork/datasets/API_call_spacex_api.json'"
   ]
  },
  {
   "cell_type": "code",
   "execution_count": null,
   "id": "f4d70277-cd90-40d8-8b80-8a2d0f8cf102",
   "metadata": {},
   "outputs": [],
   "source": [
    "#Function to retrieve booster name from rocket column\n",
    "def getBoosterVersion(data):\n",
    "    for rock in data['rocket']:\n",
    "        if rock:\n",
    "            response = rq.get(rockets_url+str(rock)).json()\n",
    "            BoosterVersion.append(response['name'])"
   ]
  },
  {
   "cell_type": "code",
   "execution_count": null,
   "id": "f027146e-9e12-4463-86fa-926abe585cac",
   "metadata": {},
   "outputs": [],
   "source": [
    "#Function to retrieve name of launch site using launchpad\n",
    "def getLaunchSite(data):\n",
    "    for x in data['launchpad']:\n",
    "       if x:\n",
    "         response = rq.get(launchpad_url+str(x)).json()\n",
    "         Longitude.append(response['longitude'])\n",
    "         Latitude.append(response['latitude'])\n",
    "         LaunchSite.append(response['name'])"
   ]
  },
  {
   "cell_type": "code",
   "execution_count": null,
   "id": "cb72c9bd-2776-40c1-b431-d1f29c72575d",
   "metadata": {},
   "outputs": [],
   "source": [
    "#Function to retrieve mass of payload from payload api\n",
    "def getPayloadData(data):\n",
    "    for load in data['payloads']:\n",
    "        if load:\n",
    "            response = rq.get(payloads_url+load).json()\n",
    "            PayloadMass.append(response['mass_kg'])\n",
    "            Orbit.append(response['orbit'])"
   ]
  },
  {
   "cell_type": "code",
   "execution_count": null,
   "id": "f2f5cd0b-f8bc-4745-809f-05cebeefbab0",
   "metadata": {},
   "outputs": [],
   "source": [
    "#Function to retrieve landing outcome from core dataset\n",
    "def getCoreData(data):\n",
    "    for core in data['cores']:\n",
    "            if core['core'] != None:\n",
    "                response = rq.get(core_url+core['core']).json()\n",
    "                Block.append(response['block'])\n",
    "                ReusedCount.append(response['reuse_count'])\n",
    "                Serial.append(response['serial'])\n",
    "            else:\n",
    "                Block.append(None)\n",
    "                ReusedCount.append(None)\n",
    "                Serial.append(None)\n",
    "            Outcome.append(str(core['landing_success'])+' '+str(core['landing_type']))\n",
    "            Flights.append(core['flight'])\n",
    "            GridFins.append(core['gridfins'])\n",
    "            Reused.append(core['reused'])\n",
    "            Legs.append(core['legs'])\n",
    "            LandingPad.append(core['landpad'])"
   ]
  },
  {
   "cell_type": "code",
   "execution_count": null,
   "id": "e3d8423e-a44b-45cd-b5e4-7504404ebfc5",
   "metadata": {},
   "outputs": [],
   "source": [
    "#Get main spacex data\n",
    "response = rq.get(main_url)"
   ]
  },
  {
   "cell_type": "code",
   "execution_count": null,
   "id": "1e9364cf-aaab-4df6-b2d2-b2393e651536",
   "metadata": {},
   "outputs": [],
   "source": [
    "#Retrieve json from response and create a data frame\n",
    "norml = pd.json_normalize(response.json())\n",
    "norml.head()"
   ]
  },
  {
   "cell_type": "code",
   "execution_count": null,
   "id": "e1938b4c-77be-4e85-8134-af468e65ce34",
   "metadata": {},
   "outputs": [],
   "source": [
    "#take a subset of data frame\n",
    "data = norml[['rocket','payloads','launchpad','cores','flight_number','date_utc']]"
   ]
  },
  {
   "cell_type": "code",
   "execution_count": null,
   "id": "d30f7f79-6987-496d-adfb-7fb41d76ab2b",
   "metadata": {},
   "outputs": [],
   "source": [
    "#Removing rows where cores or payloads are more than 1\n",
    "data = data[data['cores'].map(len)==1]\n",
    "data = data[data['payloads'].map(len)==1]\n",
    "data['cores'] = data['cores'].map(lambda x : x[0])\n",
    "data['payloads'] = data['payloads'].map(lambda x : x[0])"
   ]
  },
  {
   "cell_type": "code",
   "execution_count": null,
   "id": "cc2c172f-41ae-499f-a8d2-fd7956c05f63",
   "metadata": {},
   "outputs": [],
   "source": [
    "#convert the date_utc to a datetime datatype and then extracting the date leaving the time\n",
    "data['date'] = pd.to_datetime(data['date_utc']).dt.date"
   ]
  },
  {
   "cell_type": "code",
   "execution_count": null,
   "id": "55fd85e1-7deb-4757-9245-6c7dd0545c3a",
   "metadata": {},
   "outputs": [],
   "source": [
    "#restrict the dates of the launches to before nov 2020\n",
    "data = data[data['date'] <= datetime.date(2020, 11, 13)]"
   ]
  },
  {
   "cell_type": "code",
   "execution_count": null,
   "id": "bb2ef923-3b89-44cd-a71d-03a23c1c89f8",
   "metadata": {},
   "outputs": [],
   "source": [
    "data.head()"
   ]
  },
  {
   "cell_type": "code",
   "execution_count": null,
   "id": "59ebbf5f-77d5-4215-962e-d1cdcca8bd4c",
   "metadata": {},
   "outputs": [],
   "source": [
    "#Creating empty vectors to store data retrieve from different API endpoints using core API information \n",
    "#Global variables \n",
    "BoosterVersion = []\n",
    "PayloadMass = []\n",
    "Orbit = []\n",
    "LaunchSite = []\n",
    "Outcome = []\n",
    "Flights = []\n",
    "GridFins = []\n",
    "Reused = []\n",
    "Legs = []\n",
    "LandingPad = []\n",
    "Block = []\n",
    "ReusedCount = []\n",
    "Serial = []\n",
    "Longitude = []\n",
    "Latitude = []"
   ]
  },
  {
   "cell_type": "code",
   "execution_count": null,
   "id": "797fb946-cd42-420d-8b6e-947887e648d0",
   "metadata": {},
   "outputs": [],
   "source": [
    "# Call getBoosterVersion\n",
    "getBoosterVersion(data)\n",
    "getLaunchSite(data)\n",
    "getPayloadData(data)\n",
    "getCoreData(data)"
   ]
  },
  {
   "cell_type": "code",
   "execution_count": null,
   "id": "6badd502-b4de-4b0f-8758-3983bb66dc24",
   "metadata": {},
   "outputs": [],
   "source": [
    "launch_dict = {'FlightNumber': list(data['flight_number']),\n",
    "'Date': list(data['date']),\n",
    "'BoosterVersion':BoosterVersion,\n",
    "'PayloadMass':PayloadMass,\n",
    "'Orbit':Orbit,\n",
    "'LaunchSite':LaunchSite,\n",
    "'Outcome':Outcome,\n",
    "'Flights':Flights,\n",
    "'GridFins':GridFins,\n",
    "'Reused':Reused,\n",
    "'Legs':Legs,\n",
    "'LandingPad':LandingPad,\n",
    "'Block':Block,\n",
    "'ReusedCount':ReusedCount,\n",
    "'Serial':Serial,\n",
    "'Longitude': Longitude,\n",
    "'Latitude': Latitude}"
   ]
  },
  {
   "cell_type": "code",
   "execution_count": null,
   "id": "f8a042e7-33d3-4b69-8727-c7ebb2feb267",
   "metadata": {},
   "outputs": [],
   "source": [
    "launchdf = pd.DataFrame(launch_dict)"
   ]
  },
  {
   "cell_type": "code",
   "execution_count": null,
   "id": "a9b562bf-1ef9-4a26-aa6a-922f38651873",
   "metadata": {},
   "outputs": [],
   "source": [
    "df = launchdf[launchdf['BoosterVersion'] == 'Falcon 9']"
   ]
  },
  {
   "cell_type": "code",
   "execution_count": null,
   "id": "e6bf1f4f-f47a-4605-8d9f-916c64010745",
   "metadata": {},
   "outputs": [],
   "source": [
    "df.shape"
   ]
  },
  {
   "cell_type": "code",
   "execution_count": null,
   "id": "3bdfa231-da49-4e0f-90f0-2898609c820a",
   "metadata": {},
   "outputs": [],
   "source": [
    "df.loc[:,'FlightNumber'] = list(range(1, df.shape[0]+1))"
   ]
  },
  {
   "cell_type": "code",
   "execution_count": null,
   "id": "055962ec-9d78-4dd5-ba4a-0420bce83389",
   "metadata": {},
   "outputs": [],
   "source": [
    "df.isnull().sum()"
   ]
  },
  {
   "cell_type": "code",
   "execution_count": null,
   "id": "5840613d-61b8-43f9-a913-3e2ce4a1482f",
   "metadata": {},
   "outputs": [],
   "source": [
    "df['PayloadMass'].fillna(df['PayloadMass'].mean(), inplace=True)"
   ]
  },
  {
   "cell_type": "code",
   "execution_count": null,
   "id": "856b7022-0592-4550-bf71-f34ce8e52f49",
   "metadata": {},
   "outputs": [],
   "source": [
    "df.to_csv('dataset_part_1.csv', index=False)"
   ]
  },
  {
   "cell_type": "code",
   "execution_count": null,
   "id": "ff0c7d06-9bbe-4757-82e7-b7ffd0464eaa",
   "metadata": {},
   "outputs": [],
   "source": []
  }
 ],
 "metadata": {
  "kernelspec": {
   "display_name": "Python 3 (ipykernel)",
   "language": "python",
   "name": "python3"
  },
  "language_info": {
   "codemirror_mode": {
    "name": "ipython",
    "version": 3
   },
   "file_extension": ".py",
   "mimetype": "text/x-python",
   "name": "python",
   "nbconvert_exporter": "python",
   "pygments_lexer": "ipython3",
   "version": "3.12.3"
  }
 },
 "nbformat": 4,
 "nbformat_minor": 5
}
